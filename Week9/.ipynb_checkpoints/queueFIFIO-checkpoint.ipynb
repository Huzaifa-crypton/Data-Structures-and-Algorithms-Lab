{
 "cells": [
  {
   "cell_type": "code",
   "execution_count": 3,
   "id": "57662189",
   "metadata": {},
   "outputs": [
    {
     "name": "stdout",
     "output_type": "stream",
     "text": [
      "0 -> 1 -> 2 -> 3 -> 4 -> 1 -> 2 -> 3 -> 4 -> "
     ]
    }
   ],
   "source": [
    "class Node :\n",
    "    key = None\n",
    "    next = None\n",
    "    def __init__(self,key):\n",
    "        self.key = key \n",
    "    \n",
    "class Queue:\n",
    "    def __init__(self):\n",
    "        self.head = None\n",
    "        self.tail = None\n",
    "        \n",
    "    def enqueue(self,z):\n",
    "        n = Node(z)\n",
    "        if (self.head == None):\n",
    "            self.head = n\n",
    "            self.tail = n\n",
    "        else:\n",
    "            self.tail.next = n\n",
    "            self.tail = n\n",
    "    def dequeue(self):\n",
    "        y = self.head\n",
    "        self.head = self.head.next\n",
    "        if self.head == None:\n",
    "            self.tail ==None\n",
    "        return y\n",
    "    def isEmpty(self):\n",
    "        if (self.head == None):\n",
    "            return true\n",
    "        else:\n",
    "            return false\n",
    "    def printQueue(self):\n",
    "        temp = self.head\n",
    "        while temp != None:\n",
    "            print (temp.key,\"->\" ,end = \" \")\n",
    "            temp = temp.next\n",
    "        print()\n",
    "q = Queue()\n",
    "q.enqueue(0)\n",
    "q.enqueue(1)\n",
    "q.enqueue(2)\n",
    "q.enqueue(3)\n",
    "q.enqueue(4)\n",
    "q.printQueue()\n",
    "q.dequeue()\n",
    "q.printQueue()"
   ]
  },
  {
   "cell_type": "code",
   "execution_count": null,
   "id": "c9f6e4ad",
   "metadata": {},
   "outputs": [],
   "source": []
  }
 ],
 "metadata": {
  "kernelspec": {
   "display_name": "Python 3",
   "language": "python",
   "name": "python3"
  },
  "language_info": {
   "codemirror_mode": {
    "name": "ipython",
    "version": 3
   },
   "file_extension": ".py",
   "mimetype": "text/x-python",
   "name": "python",
   "nbconvert_exporter": "python",
   "pygments_lexer": "ipython3",
   "version": "3.8.8"
  }
 },
 "nbformat": 4,
 "nbformat_minor": 5
}
