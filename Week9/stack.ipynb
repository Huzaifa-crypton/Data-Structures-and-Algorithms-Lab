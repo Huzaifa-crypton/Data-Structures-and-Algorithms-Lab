{
 "cells": [
  {
   "cell_type": "code",
   "execution_count": null,
   "id": "b0e60646",
   "metadata": {},
   "outputs": [],
   "source": [
    "class Node :\n",
    "    key = None\n",
    "    next = None\n",
    "    def __init__(self,key):\n",
    "        self.key = key \n",
    "    \n",
    "class Stack:\n",
    "    def __init__(self):\n",
    "        self.head = None\n",
    "        self.tail = None\n",
    "        \n",
    "    def push(self,z):\n",
    "        n = Node(z)\n",
    "        if (self.head == None):\n",
    "            self.head = n\n",
    "            self.tail = n\n",
    "        else:\n",
    "            self.tail.next = n\n",
    "            self.tail = n\n",
    "    def pop(self):\n",
    "        y = self.tail\n",
    "        temp = self.head\n",
    "        while temp.next != y:\n",
    "            temp = temp.next\n",
    "        self.tail = temp\n",
    "        return y\n",
    "    def isEmpty():\n",
    "        if (self.head == None):\n",
    "            return true\n",
    "        else:\n",
    "            return false\n",
    "    def peek():\n",
    "        return self.tail\n",
    "    def printStack():\n",
    "        temp = self.head\n",
    "        while temp != None:\n",
    "            print (temp.key+\"->\" ,end = \" \")\n",
    "            temp = temp.next\n",
    "        "
   ]
  }
 ],
 "metadata": {
  "kernelspec": {
   "display_name": "Python 3",
   "language": "python",
   "name": "python3"
  },
  "language_info": {
   "codemirror_mode": {
    "name": "ipython",
    "version": 3
   },
   "file_extension": ".py",
   "mimetype": "text/x-python",
   "name": "python",
   "nbconvert_exporter": "python",
   "pygments_lexer": "ipython3",
   "version": "3.8.8"
  }
 },
 "nbformat": 4,
 "nbformat_minor": 5
}
