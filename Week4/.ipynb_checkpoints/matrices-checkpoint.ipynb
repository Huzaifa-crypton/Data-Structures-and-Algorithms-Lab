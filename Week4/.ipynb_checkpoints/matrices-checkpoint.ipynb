{
 "cells": [
  {
   "cell_type": "code",
   "execution_count": 16,
   "id": "7d418a7a",
   "metadata": {},
   "outputs": [
    {
     "data": {
      "text/plain": [
       "[[[[10, 28], [82, 241], [39, 222], [27, 294]],\n",
       "  [[18, 108], [195, 771], [72, 58], [44, 65]]],\n",
       " [[[222, 633], [29, 104], [18, 228], [42, 276]],\n",
       "  [[447, 2283], [147, 84], [28, 49], [76, 69]]]]"
      ]
     },
     "execution_count": 16,
     "metadata": {},
     "output_type": "execute_result"
    }
   ],
   "source": [
    "A = [[0,2,3,5],\n",
    "    [3,14,5,2],\n",
    "    [3,42,4,1],\n",
    "    [6,1 ,4,5]]\n",
    "B = [[4,15,23,5],\n",
    "    [5,14,9,54],\n",
    "    [3,54,4,11],\n",
    "    [6,12,12,5]]\n",
    "def MatAdd(A,B):\n",
    "    c = []\n",
    "    if (type(A) == int ):\n",
    "        return A+B\n",
    "    for i in range(len(A)):\n",
    "        row = []\n",
    "        for j in range(len(A)):\n",
    "            row.append(A[i][j]+B[i][j])\n",
    "        c.append(row)    \n",
    "    return(c)\n",
    "MatAdd(A,B)\n"
   ]
  },
  {
   "cell_type": "code",
   "execution_count": 2,
   "id": "480140f7",
   "metadata": {},
   "outputs": [
    {
     "data": {
      "text/plain": [
       "[[4, 17, 26, 10], [8, 28, 14, 56], [6, 96, 8, 12], [12, 13, 16, 10]]"
      ]
     },
     "execution_count": 2,
     "metadata": {},
     "output_type": "execute_result"
    }
   ],
   "source": [
    "def MatAddPartial(A , B , x , y , size):\n",
    "    c = []\n",
    "    for i in range (x , x+size):\n",
    "            row = []\n",
    "            for j in range (y , y+size):\n",
    "                    row.append(A[i][j] + B[i][j])\n",
    "            c.append(row)        \n",
    "    return (c)\n",
    "MatAddPartial(A , B , 0 ,0 , 4)"
   ]
  },
  {
   "cell_type": "code",
   "execution_count": 39,
   "id": "a965b367",
   "metadata": {},
   "outputs": [
    {
     "data": {
      "text/plain": [
       "[[72, 73], [280, 367]]"
      ]
     },
     "execution_count": 39,
     "metadata": {},
     "output_type": "execute_result"
    }
   ],
   "source": [
    "A = [[2,3],\n",
    "    [14,5]]\n",
    "B = [[15,23],\n",
    "    [14,9]]\n",
    "\n",
    "def MatMul(A , B):\n",
    "    c = []\n",
    "    for i in range(len(A)):\n",
    "        row = []\n",
    "        for j in range(len(A)):\n",
    "            r = 0\n",
    "            for k in range(len(A)):\n",
    "                r = r + A[i][k]*B[k][j]\n",
    "            row.append(r)\n",
    "        c.append(row)\n",
    "    return c \n",
    "MatMul(A,B)"
   ]
  },
  {
   "cell_type": "code",
   "execution_count": 38,
   "id": "64ffd966",
   "metadata": {},
   "outputs": [
    {
     "data": {
      "text/plain": [
       "[[72, 73], [280, 367]]"
      ]
     },
     "execution_count": 38,
     "metadata": {},
     "output_type": "execute_result"
    }
   ],
   "source": [
    "import numpy as np\n",
    "A = [[0,2,3,5],\n",
    "    [3,14,5,2],\n",
    "    [3,42,4,1],\n",
    "    [6,1 ,4,5]]\n",
    "B = [[4,15,23,5],\n",
    "    [5,14,9,54],\n",
    "    [3,54,4,11],\n",
    "    [6,12,12,5]]\n",
    "def MatAdd(A,B):\n",
    "    c = []\n",
    "    if (type(A) == int ):\n",
    "        return A+B\n",
    "    for i in range(len(A)):\n",
    "        row = []\n",
    "        for j in range(len(A)):\n",
    "            row.append(A[i][j]+B[i][j])\n",
    "        c.append(row)    \n",
    "    return(c)\n",
    "MatAdd(A,B)\n",
    "\n",
    "def separateArrays(A , B , x , y , size):\n",
    "    a = []\n",
    "    b = []\n",
    "    for i in range (x , x+size):\n",
    "            rowA = []\n",
    "            rowB = []\n",
    "            for j in range (y , y+size):\n",
    "                    rowA.append(A[i][j])\n",
    "                    rowB.append(B[i][j])\n",
    "            a.append(rowA)\n",
    "            b.append(rowB)            \n",
    "    return(a,b)\n",
    "\n",
    "def MatMulRec(A , B , x,y,size):\n",
    "    C = []\n",
    "    if (len(A) == 1):\n",
    "        return A[0][0]*B[0][0]\n",
    "    else:\n",
    "        div = size//2\n",
    "        A11 , B11 = separateArrays(A , B , x , y , div)\n",
    "        A12 , B12 = separateArrays(A , B , x , y+div , div)\n",
    "        A21 , B21 = separateArrays(A , B , div+x , y , div)\n",
    "        A22 , B22 = separateArrays(A , B , div+x , div+y , div)\n",
    "        C11 = MatAdd(MatMulRec(A11,B11 , 0 , 0 , div),MatMulRec(A12,B21 , 0 , 0 , div))\n",
    "        C12 = MatAdd(MatMulRec(A11,B12 , 0 , 0 , div),MatMulRec(A12,B22 , 0 , 0 , div))\n",
    "        C21 = MatAdd(MatMulRec(A21,B11 , 0 , 0 , div),MatMulRec(A22,B21 , 0 , 0 , div))\n",
    "        C22 = MatAdd(MatMulRec(A21,B12 , 0 , 0 , div),MatMulRec(A22,B22 , 0 , 0 , div))\n",
    "        Crow1 = [C11 , C12]\n",
    "        Crow2 = [C21 , C22]\n",
    "        C.append(Crow1)\n",
    "        C.append(Crow2)\n",
    "        return C    \n",
    "    \n",
    "MatMulRec(A,B , 0 , 1 , 2)        \n",
    "            \n",
    "        \n"
   ]
  },
  {
   "cell_type": "code",
   "execution_count": 37,
   "id": "ee372407",
   "metadata": {},
   "outputs": [
    {
     "name": "stdout",
     "output_type": "stream",
     "text": [
      "[[[[49, 250], [109, 535]], [[90, 166], [239, 836]]], [[[240, 861], [71, 380]], [[475, 2332], [223, 153]]]]\n"
     ]
    }
   ],
   "source": [
    "\n",
    "A = [[0,2],\n",
    "    [3,14]]\n",
    "B = [[4,15],\n",
    "    [5,14]]\n",
    "A = [[0,2,3,5],\n",
    "    [3,14,5,2],\n",
    "    [3,42,4,1],\n",
    "    [6,1 ,4,5]]\n",
    "B = [[4,15,23,5],\n",
    "    [5,14,9,54],\n",
    "    [3,54,4,11],\n",
    "    [6,12,12,5]]\n",
    "def MatAdd(A,B,sign):\n",
    "    c = []\n",
    "    if (type(A) == int and sign == \"add\" ):\n",
    "        return A+B\n",
    "    elif (type(A) == int):\n",
    "        return A-B\n",
    "    for i in range(len(A)):\n",
    "        row = []\n",
    "        for j in range(len(A)):\n",
    "            if (sign == \"add\"):\n",
    "                row.append(A[i][j]+B[i][j])\n",
    "            else:\n",
    "                row.append(A[i][j]-B[i][j])\n",
    "            \n",
    "        c.append(row)    \n",
    "    return(c)\n",
    "def separateArrays(A , B , x , y , size):\n",
    "    a = []\n",
    "    b = []\n",
    "    for i in range (x , x+size):\n",
    "            rowA = []\n",
    "            rowB = []\n",
    "            for j in range (y , y+size):\n",
    "                    rowA.append(A[i][j])\n",
    "                    rowB.append(B[i][j])\n",
    "            a.append(rowA)\n",
    "            b.append(rowB)            \n",
    "    return(a,b)\n",
    "\n",
    "\n",
    "def MatMulStressen(A , B):\n",
    "    if (len(A) == 1):\n",
    "\n",
    "        return A[0][0]*B[0][0]\n",
    "    else :\n",
    "        div = len(A)//2\n",
    "        A11 , B11 = separateArrays(A , B , 0 , 0 , div)\n",
    "        A12 , B12 = separateArrays(A , B , 0 , div , div)\n",
    "        A21 , B21 = separateArrays(A , B , div , 0 , div)\n",
    "        A22 , B22 = separateArrays(A , B , div+0 , div+0 , div)\n",
    "        p1 = MatMulStressen(A11 , MatAdd(B12,B22,\"sub\"))\n",
    "        p2 = MatMulStressen(MatAdd(A11,A12,\"add\") , B22)\n",
    "        p3 = MatMulStressen(MatAdd(A21,A22,\"add\") , B11)\n",
    "        p4 = MatMulStressen(A22 , MatAdd(B21,B11,\"sub\"))\n",
    "        p5 = MatMulStressen(MatAdd(A11,A22,\"add\") , MatAdd(B11,B22,\"add\"))\n",
    "        p6 = MatMulStressen(MatAdd(A12,A22,\"sub\") , MatAdd(B21,B22,\"add\"))\n",
    "        p7 = MatMulStressen(MatAdd(A11,A21,\"sub\") , MatAdd(B11,B12,\"add\"))\n",
    "        a = MatAdd(p5,p4,\"add\")\n",
    "        b = MatAdd(a,p2,\"sub\")\n",
    "        b = MatAdd(b,p6,\"add\")\n",
    "        # CCalculating C11\n",
    "        C11 = b\n",
    "        C12 = MatAdd(p1,p2,\"add\")\n",
    "        C21 = MatAdd(p3,p4,\"add\")\n",
    "        # Calculating C22\n",
    "        a = MatAdd(p5,p1,\"add\")\n",
    "        b = MatAdd(a,p3,\"sub\")\n",
    "        b = MatAdd(b,p7,\"sub\")\n",
    "        C22 = b\n",
    "        C = [[C11 ,C12],[C21 , C22]]\n",
    "        return C\n",
    "print(MatMulStressen(A,B))                    "
   ]
  },
  {
   "cell_type": "code",
   "execution_count": null,
   "id": "83a88424",
   "metadata": {},
   "outputs": [],
   "source": []
  }
 ],
 "metadata": {
  "kernelspec": {
   "display_name": "Python 3",
   "language": "python",
   "name": "python3"
  },
  "language_info": {
   "codemirror_mode": {
    "name": "ipython",
    "version": 3
   },
   "file_extension": ".py",
   "mimetype": "text/x-python",
   "name": "python",
   "nbconvert_exporter": "python",
   "pygments_lexer": "ipython3",
   "version": "3.8.8"
  }
 },
 "nbformat": 4,
 "nbformat_minor": 5
}
