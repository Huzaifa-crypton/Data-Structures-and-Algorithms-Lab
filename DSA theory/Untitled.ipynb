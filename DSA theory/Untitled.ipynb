{
 "cells": [
  {
   "cell_type": "code",
   "execution_count": 5,
   "id": "a81ef586",
   "metadata": {},
   "outputs": [
    {
     "data": {
      "text/plain": [
       "['The Alice Network: A Novel',\n",
       " 'News of the World: A Novel',\n",
       " 'The Huntress: A Novel',\n",
       " \"The Lighthouse Keeper's Daughter: A Novel\",\n",
       " 'Farewell to Arms: The Hemingway Library Edition',\n",
       " 'The City of Brass: A Novel',\n",
       " 'Flesh and Blood',\n",
       " 'The Orchardist: A Novel',\n",
       " 'Ghost Ship: A Sigma Force Short Story',\n",
       " 'The Monster',\n",
       " 'Serpent: A Novel from the NUMA files',\n",
       " 'Pirate Latitudes: A Novel',\n",
       " 'The Way Station',\n",
       " 'The Sisters Brothers',\n",
       " 'The Kingdom of Copper: A Novel',\n",
       " 'The Girl Who Saved the King of Sweden: A Novel',\n",
       " 'Last Light',\n",
       " 'Fall; or, Dodge in Hell: A Novel',\n",
       " \"The Baker's Secret: A Novel\",\n",
       " 'The Prisoner of Heaven: A Novel']"
      ]
     },
     "execution_count": 5,
     "metadata": {},
     "output_type": "execute_result"
    }
   ],
   "source": [
    "import pandas as pd\n",
    "df = pd.read_csv(\"AllBooks.csv\")\n",
    "\n",
    "bkname = []\n",
    "pg = []\n",
    "author = []\n",
    "\n",
    "for i in range(len(df)):\n",
    "    bkname.append(df.iloc[i][1])\n",
    "    author.append(df.iloc[i][2])\n",
    "    pg.append(df.iloc[i][3])\n",
    "bkname    \n",
    "    "
   ]
  },
  {
   "cell_type": "code",
   "execution_count": null,
   "id": "92c266b1",
   "metadata": {},
   "outputs": [],
   "source": []
  }
 ],
 "metadata": {
  "kernelspec": {
   "display_name": "Python 3",
   "language": "python",
   "name": "python3"
  },
  "language_info": {
   "codemirror_mode": {
    "name": "ipython",
    "version": 3
   },
   "file_extension": ".py",
   "mimetype": "text/x-python",
   "name": "python",
   "nbconvert_exporter": "python",
   "pygments_lexer": "ipython3",
   "version": "3.8.8"
  }
 },
 "nbformat": 4,
 "nbformat_minor": 5
}
