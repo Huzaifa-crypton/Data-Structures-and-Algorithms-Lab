{
 "cells": [
  {
   "cell_type": "code",
   "execution_count": 1,
   "id": "63c8eb2b",
   "metadata": {},
   "outputs": [
    {
     "name": "stdout",
     "output_type": "stream",
     "text": [
      "(-12, 0, 0)\n"
     ]
    }
   ],
   "source": [
    "import math\n",
    "def bruteForce(A):\n",
    "    sum = -math.inf\n",
    "    add = 0\n",
    "    for i in range(0 , len(A)):\n",
    "        add = 0\n",
    "        for j in range (i , len(A)):\n",
    "            add = add + A[j]\n",
    "            if (add > sum):\n",
    "                sum = add\n",
    "                stIdx = i\n",
    "                endIdx = j\n",
    "    return (sum , stIdx , endIdx)            \n",
    "A = [-12,-13,-14,-20,-50,-30,-14,-13]\n",
    "print(bruteForce(A))"
   ]
  },
  {
   "cell_type": "code",
   "execution_count": 2,
   "id": "b57e2648",
   "metadata": {},
   "outputs": [
    {
     "name": "stdout",
     "output_type": "stream",
     "text": [
      "(-12, 0, 0)\n"
     ]
    }
   ],
   "source": [
    "def Find_Max_SubArray(A , stIdx , endIdx):\n",
    "    if (stIdx == endIdx):\n",
    "        return (A[stIdx] , stIdx , endIdx)\n",
    "    else:\n",
    "        mid = (stIdx+endIdx)//2\n",
    "        (leftsum , leftstidx , leftendidx) = Find_Max_SubArray(A , stIdx , mid)\n",
    "        (rightsum , rightstidx , rightendidx) = Find_Max_SubArray(A , mid+1 , endIdx)\n",
    "        (crosssum , crossstidx , crossendidx) = Find_Max_Crossing_SubArray(A , stIdx , mid , endIdx)\n",
    "        if leftsum > rightsum and leftsum > crosssum:\n",
    "            return (leftsum , leftstidx , leftendidx)\n",
    "        elif rightsum > leftsum and rightsum > crosssum:\n",
    "            return (rightsum , rightstidx , rightendidx)\n",
    "        else:\n",
    "            return (crosssum , crossstidx , crossendidx)\n",
    "def Find_Max_Crossing_SubArray(A , stIdx , mid , endIdx):\n",
    "    leftsum = -math.inf\n",
    "    add = 0\n",
    "    leftidx = -1\n",
    "    \n",
    "    for i in range(mid , stIdx-1 , -1): \n",
    "        add = add + A[i]\n",
    "        if (add > leftsum):\n",
    "            leftsum = add\n",
    "            leftIdx = i\n",
    "    rightsum = -math.inf\n",
    "    add = 0\n",
    "    rightidx = -1\n",
    "    \n",
    "    for i in range(mid+1 , endIdx+1): \n",
    "        add = add + A[i]\n",
    "        if (add > rightsum):\n",
    "            rightsum = add\n",
    "            rightIdx = i        \n",
    "    return (leftsum + rightsum , leftIdx , rightIdx)    \n",
    "A = [-12,-13,-14,-20,-50,-30,-14,-13]\n",
    "print(Find_Max_SubArray(A , 0 , len(A) - 1))\n",
    "        "
   ]
  },
  {
   "cell_type": "code",
   "execution_count": 11,
   "id": "3507447a",
   "metadata": {},
   "outputs": [
    {
     "name": "stdout",
     "output_type": "stream",
     "text": [
      "[0.0, 2.0, 4.754887502163468, 8.0, 11.60964047443681, 15.509775004326936, 19.651484454403228, 24.0, 28.52932501298081, 33.219280948873624, 38.05374780501027, 43.01955000865387, 48.105716335834195, 53.302968908806456, 58.60335893412778, 64.0, 69.48686830125577, 75.05865002596161, 80.71062275542812, 86.43856189774725, 92.23866587835397, 98.10749561002054, 104.0419249893113, 110.03910001730775, 116.09640474436812, 122.2114326716684, 128.38196255841365, 134.6059378176129, 140.88144885869957, 147.20671786825557, 153.58008562199313, 160.0, 166.46500593882897, 172.97373660251154, 179.5249055930738, 186.11730005192322, 192.74977452827116, 199.42124551085624, 206.1306865356277, 212.8771237954945, 219.65963218934144, 226.47733175670794, 233.3293844521902, 240.21499122004107, 247.13338933483536, 254.0838499786226, 261.06567602884894, 268.0782000346155, 275.1207823616452, 282.1928094887362, 289.29369244054624, 296.4228653433368, 303.57978409184955, 310.7639251168273, 317.9747842438563, 325.2118756352258, 332.47473080739024, 339.76289771739914, 347.07593991234864, 354.41343573651113, 361.7749775913361, 369.16017124398627, 376.56863518049477, 384.0, 391.4539078468495, 398.93001187765793, 406.42797576067073, 413.9474732050231, 421.4881875176937, 429.0498111861476, 436.6320454848324, 444.23460010384645, 451.8571927982413, 459.4995490565423, 467.16140178719104, 474.8424910217125, 482.54256363350737, 490.2613730712554, 497.99867910599113, 505.754247590989, 513.5278502336546, 521.3192643786829, 529.1282728017948, 536.9546635134159, 544.7982295717046, 552.6587689043804, 560.5360841388393, 568.4299824400822, 576.3402753560094, 584.2667786696708, 592.2093122580814, 600.1676999572452, 608.1417694330469, 616.1313520576979, 624.1362827914401, 632.156400069231, 640.1915456921514, 648.2415647232904, 656.3063053878814]\n",
      "[1, 4, 9, 16, 25, 36, 49, 64, 81, 100, 121, 144, 169, 196, 225, 256, 289, 324, 361, 400, 441, 484, 529, 576, 625, 676, 729, 784, 841, 900, 961, 1024, 1089, 1156, 1225, 1296, 1369, 1444, 1521, 1600, 1681, 1764, 1849, 1936, 2025, 2116, 2209, 2304, 2401, 2500, 2601, 2704, 2809, 2916, 3025, 3136, 3249, 3364, 3481, 3600, 3721, 3844, 3969, 4096, 4225, 4356, 4489, 4624, 4761, 4900, 5041, 5184, 5329, 5476, 5625, 5776, 5929, 6084, 6241, 6400, 6561, 6724, 6889, 7056, 7225, 7396, 7569, 7744, 7921, 8100, 8281, 8464, 8649, 8836, 9025, 9216, 9409, 9604, 9801]\n"
     ]
    },
    {
     "data": {
      "image/png": "[encoded data removed]",
      "text/plain": [
       "<Figure size 432x288 with 1 Axes>"
      ]
     },
     "metadata": {
      "needs_background": "light"
     },
     "output_type": "display_data"
    }
   ],
   "source": [
    "import matplotlib.pyplot as plt\n",
    "import numpy as np\n",
    "\n",
    "def calculateOperations(n):\n",
    "    A = []\n",
    "    B = []\n",
    "    x = []\n",
    "    for i in range (1 , n):\n",
    "        if i == 0:\n",
    "            A.append(0)\n",
    "        else:\n",
    "            A.append(i*math.log2(i))\n",
    "        B.append(i**2)\n",
    "        x.append(i)\n",
    "    print(A)\n",
    "    print(B)\n",
    "    plt.plot(x , B , \"blue\")\n",
    "    plt.plot(x , A , \"red\")\n",
    "    \n",
    "    plt.show()\n",
    "calculateOperations(100)    "
   ]
  },
  {
   "cell_type": "code",
   "execution_count": null,
   "id": "2907387c",
   "metadata": {},
   "outputs": [],
   "source": []
  }
 ],
 "metadata": {
  "kernelspec": {
   "display_name": "Python 3",
   "language": "python",
   "name": "python3"
  },
  "language_info": {
   "codemirror_mode": {
    "name": "ipython",
    "version": 3
   },
   "file_extension": ".py",
   "mimetype": "text/x-python",
   "name": "python",
   "nbconvert_exporter": "python",
   "pygments_lexer": "ipython3",
   "version": "3.8.8"
  }
 },
 "nbformat": 4,
 "nbformat_minor": 5
}
