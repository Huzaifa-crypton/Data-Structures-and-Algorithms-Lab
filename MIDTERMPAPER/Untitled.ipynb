{
 "cells": [
  {
   "cell_type": "code",
   "execution_count": null,
   "id": "f2e9bd64",
   "metadata": {},
   "outputs": [],
   "source": [
    "class RootNode:\n",
    "    key = None\n",
    "    left = None\n",
    "    right = None\n",
    "    colour = \"\"\n",
    "    parent = None\n",
    "class Node:\n",
    "    key = None\n",
    "    left = None\n",
    "    right = None\n",
    "    colour = \"\"\n",
    "    parent = None\n",
    "\n",
    "def insertNode(T , key):\n",
    "    x = T.root\n",
    "    if key > x.key:\n",
    "        x = x.right\n",
    "    else:\n",
    "        x = x.left\n",
    "\n",
    "root = Node()\n",
    "\n",
    "\n",
    "def insertRBT(node):\n"
   ]
  }
 ],
 "metadata": {
  "kernelspec": {
   "display_name": "Python 3",
   "language": "python",
   "name": "python3"
  },
  "language_info": {
   "codemirror_mode": {
    "name": "ipython",
    "version": 3
   },
   "file_extension": ".py",
   "mimetype": "text/x-python",
   "name": "python",
   "nbconvert_exporter": "python",
   "pygments_lexer": "ipython3",
   "version": "3.8.8"
  }
 },
 "nbformat": 4,
 "nbformat_minor": 5
}
