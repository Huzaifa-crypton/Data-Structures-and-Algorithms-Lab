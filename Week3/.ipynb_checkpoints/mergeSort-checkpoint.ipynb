{
 "cells": [
  {
   "cell_type": "code",
   "execution_count": 42,
   "id": "365c0b53",
   "metadata": {},
   "outputs": [
    {
     "name": "stdout",
     "output_type": "stream",
     "text": [
      "[1, 4, 3, 9, 7]\n",
      "[1, 3, 4, 9, 7]\n",
      "[7, 9, 4, 9, 7]\n",
      "[7, 9, 7, 9, 4]\n",
      "[7, 9, 7, 9, 4]\n"
     ]
    }
   ],
   "source": [
    " i =1\n",
    "def mergeSort(A , a , b):\n",
    "    if a!=b : \n",
    "        mid = (a + b) // 2\n",
    "        mergeSort(A , a , mid)\n",
    "        mergeSort(A , mid + 1 , b)\n",
    "        merge(A , a  , mid , b)\n",
    "\n",
    "def merge(A , a , mid , b):\n",
    "#     print(str(a) +\"      \"+str(mid) +\"       \"+str(b))\n",
    "    \n",
    "    L = []\n",
    "    R = []\n",
    "    \n",
    "    for i in range(a , mid+1):\n",
    "        L.append(A[i])\n",
    "    for i in range(mid+1 , b+1):\n",
    "        R.append(A[i])    \n",
    "   \n",
    "    i = 0\n",
    "    j = 0\n",
    "    k = 0\n",
    "    \n",
    "    while (j < len(L) and k < len(R)):\n",
    "        if (L[j] < R[k]): \n",
    "            A[i] = L[j]\n",
    "            j+=1\n",
    "            i+=1\n",
    "        else:\n",
    "            A[i] = R[k]\n",
    "            k+=1\n",
    "            i+=1\n",
    "#     print(A)    \n",
    "#     print(L)\n",
    "#     print(R)\n",
    "    while (j < len(L)):\n",
    "        A[i] = L[j]\n",
    "        i+=1\n",
    "        j+=1\n",
    "    while (k < len(R)):\n",
    "        A[i] = R[k]\n",
    "        k+=1\n",
    "        i+=1\n",
    "    print(A)\n",
    "A = [4,1,3,9,7]\n",
    "mergeSort(A , 0 , len(A)-1)   \n",
    "# print(A)        "
   ]
  },
  {
   "cell_type": "code",
   "execution_count": 4,
   "id": "44d8c223",
   "metadata": {},
   "outputs": [
    {
     "name": "stdout",
     "output_type": "stream",
     "text": [
      "2\n",
      "2.6666666666666665\n"
     ]
    }
   ],
   "source": []
  },
  {
   "cell_type": "code",
   "execution_count": 11,
   "id": "17152c11",
   "metadata": {},
   "outputs": [
    {
     "name": "stdout",
     "output_type": "stream",
     "text": [
      "i             100NSquare                   TwoPowerN\n",
      "1              100           2\n",
      "2              400           4\n",
      "3              900           8\n",
      "4              1600           16\n",
      "5              2500           32\n",
      "6              3600           64\n",
      "7              4900           128\n",
      "8              6400           256\n",
      "9              8100           512\n",
      "10              10000           1024\n",
      "11              12100           2048\n",
      "12              14400           4096\n",
      "13              16900           8192\n",
      "14              19600           16384\n",
      "15              22500           32768\n",
      "16              25600           65536\n",
      "17              28900           131072\n",
      "18              32400           262144\n",
      "19              36100           524288\n",
      "20              40000           1048576\n",
      "21              44100           2097152\n",
      "22              48400           4194304\n",
      "23              52900           8388608\n",
      "24              57600           16777216\n",
      "25              62500           33554432\n",
      "26              67600           67108864\n",
      "27              72900           134217728\n",
      "28              78400           268435456\n",
      "29              84100           536870912\n",
      "30              90000           1073741824\n",
      "VALUE OF I:15\n"
     ]
    }
   ],
   "source": [
    "import pandas as pd\n",
    "import matplotlib as plt\n",
    "hundredNsquare = []\n",
    "twopowerN = []\n",
    "for i in range(1 , 31):\n",
    "    hundredNsquare.append(100*(i**2))\n",
    "    twopowerN.append(2**i)\n",
    "print(\"i             100NSquare                   TwoPowerN\")    \n",
    "for a in range(len(hundredNsquare)):\n",
    "    print(str(a+1)+\"              \"+str(hundredNsquare[a]) +\"           \"+str(twopowerN[a]))\n",
    "for a in range(len(hundredNsquare)):\n",
    "    if(hundredNsquare[a] < twopowerN[a]):\n",
    "        print(\"VALUE OF I:\" + str(a+1))\n",
    "        break\n",
    "        "
   ]
  },
  {
   "cell_type": "code",
   "execution_count": null,
   "id": "c8ed4b6d",
   "metadata": {},
   "outputs": [],
   "source": []
  }
 ],
 "metadata": {
  "kernelspec": {
   "display_name": "Python 3",
   "language": "python",
   "name": "python3"
  },
  "language_info": {
   "codemirror_mode": {
    "name": "ipython",
    "version": 3
   },
   "file_extension": ".py",
   "mimetype": "text/x-python",
   "name": "python",
   "nbconvert_exporter": "python",
   "pygments_lexer": "ipython3",
   "version": "3.8.8"
  }
 },
 "nbformat": 4,
 "nbformat_minor": 5
}
