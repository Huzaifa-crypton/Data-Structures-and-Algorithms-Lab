{
 "cells": [
  {
   "cell_type": "code",
   "execution_count": 6,
   "id": "22e68308",
   "metadata": {},
   "outputs": [
    {
     "name": "stdout",
     "output_type": "stream",
     "text": [
      "[-3, -2, -8, -6, 9, 5, 1, 3]\n"
     ]
    }
   ],
   "source": [
    "import math\n",
    "def segregateNumbers(A , a , b):\n",
    "    if ( a != b ) :\n",
    "        mid = ( a + b ) // 2\n",
    "        segregateNumbers(A , a , mid)\n",
    "        segregateNumbers(A , mid + 1 , b)\n",
    "        mergeSegregate(A , a , mid , b)\n",
    "def mergeSegregate(A , a, mid ,b):\n",
    "    L = []\n",
    "    R = []\n",
    "    for i in range(a , mid + 1):\n",
    "        L.append(A[i])\n",
    "    for i in range(mid+1 , b+1):\n",
    "        R.append(A[i])\n",
    "  \n",
    "    k = len(L)\n",
    "    l = len(R)\n",
    "    i = 0\n",
    "    j = 0\n",
    "    m = a\n",
    "    for p in range(len(L)):\n",
    "        if(L[p] < 0):\n",
    "            y = A[m]\n",
    "            A[m] = L[p]\n",
    "            L[p] = math.inf\n",
    "            A[a+p] = y\n",
    "            m+=1\n",
    "    for p in range(len(R)):\n",
    "         if(R[p] < 0):\n",
    "            y = A[m]\n",
    "            A[m] = R[p]\n",
    "            R[p] = math.inf\n",
    "            A[mid+1+p] = y\n",
    "            m+=1\n",
    "A = [9,-3,5,-2,-8,-6,1,3]\n",
    "segregateNumbers(A , 0 , len(A)-1)\n",
    "print(A)"
   ]
  },
  {
   "cell_type": "code",
   "execution_count": null,
   "id": "04d52a61",
   "metadata": {},
   "outputs": [],
   "source": []
  },
  {
   "cell_type": "code",
   "execution_count": null,
   "id": "a49791b2",
   "metadata": {},
   "outputs": [],
   "source": []
  },
  {
   "cell_type": "code",
   "execution_count": null,
   "id": "1da3d7aa",
   "metadata": {},
   "outputs": [],
   "source": [
    "# R = []\n",
    "# j = 0\n",
    "# A = [1,3,5,234,2,-4,123,432,123]\n",
    "\n",
    "# a = len(A)\n",
    "# for i in range(a):\n",
    "#     print(i)\n",
    "#     if(A[i] < 0):\n",
    "#         R.append(A[i])\n",
    "#         A.pop(i)\n",
    "#         a-=1\n",
    "#         j+=1\n",
    "# print(R)        "
   ]
  },
  {
   "cell_type": "code",
   "execution_count": null,
   "id": "7a9e4c94",
   "metadata": {},
   "outputs": [],
   "source": []
  }
 ],
 "metadata": {
  "kernelspec": {
   "display_name": "Python 3",
   "language": "python",
   "name": "python3"
  },
  "language_info": {
   "codemirror_mode": {
    "name": "ipython",
    "version": 3
   },
   "file_extension": ".py",
   "mimetype": "text/x-python",
   "name": "python",
   "nbconvert_exporter": "python",
   "pygments_lexer": "ipython3",
   "version": "3.8.8"
  }
 },
 "nbformat": 4,
 "nbformat_minor": 5
}
