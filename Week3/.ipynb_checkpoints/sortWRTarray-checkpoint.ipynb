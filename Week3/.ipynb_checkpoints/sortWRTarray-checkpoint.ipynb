{
 "cells": [
  {
   "cell_type": "code",
   "execution_count": 7,
   "id": "5af78955",
   "metadata": {},
   "outputs": [
    {
     "name": "stdout",
     "output_type": "stream",
     "text": [
      "3\n",
      "5\n",
      "7\n",
      "2\n",
      "[3, 5, 9, 8, 5, 7, 1, 3, 4, 9, 3, 5, 1, 8, 4]\n"
     ]
    }
   ],
   "source": [
    "def sortArray(A , B):\n",
    "    i = 0\n",
    "    for b in range(len(B)):\n",
    "        print(B[b])\n",
    "        for a in range(len(B)):\n",
    "            if (A[a] == B[b]):\n",
    "                print(a)\n",
    "                \n",
    "                y = A[i]\n",
    "                A[i] = A[a]\n",
    "                A[a] = y\n",
    "                i+=1\n",
    "        \n",
    "        \n",
    "A = [5, 8, 9, 3, 5, 7, 1, 3, 4,9, 3, 5, 1, 8, 4]\n",
    "B = [3, 5, 7, 2]                \n",
    "sortArray(A,B)\n",
    "print(A)\n",
    "                \n",
    "            "
   ]
  },
  {
   "cell_type": "code",
   "execution_count": null,
   "id": "8ac7167a",
   "metadata": {},
   "outputs": [],
   "source": []
  },
  {
   "cell_type": "code",
   "execution_count": null,
   "id": "dcdac630",
   "metadata": {},
   "outputs": [],
   "source": []
  }
 ],
 "metadata": {
  "kernelspec": {
   "display_name": "Python 3",
   "language": "python",
   "name": "python3"
  },
  "language_info": {
   "codemirror_mode": {
    "name": "ipython",
    "version": 3
   },
   "file_extension": ".py",
   "mimetype": "text/x-python",
   "name": "python",
   "nbconvert_exporter": "python",
   "pygments_lexer": "ipython3",
   "version": "3.8.8"
  }
 },
 "nbformat": 4,
 "nbformat_minor": 5
}
