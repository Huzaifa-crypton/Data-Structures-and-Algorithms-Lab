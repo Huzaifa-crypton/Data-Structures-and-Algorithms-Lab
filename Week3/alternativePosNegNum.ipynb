{
 "cells": [
  {
   "cell_type": "code",
   "execution_count": 3,
   "id": "c5ca7ea2",
   "metadata": {},
   "outputs": [
    {
     "name": "stdout",
     "output_type": "stream",
     "text": [
      "[9, -3, 5, -2, 1, -6, 3, -8]\n"
     ]
    }
   ],
   "source": [
    "def alternateSigns(A):\n",
    "    flag1= 0\n",
    "    flag2 = 0\n",
    "    \n",
    "    for i in range(1 , len(A)):\n",
    "        if (A[i-1] < 0):\n",
    "            flag1= 1\n",
    "        else:\n",
    "            flag1= 0\n",
    "        if (A[i] < 0):\n",
    "            flag2 = 1\n",
    "        else:\n",
    "            flag2 = 0\n",
    "        if flag2 == flag1:    \n",
    "            num = A[i]\n",
    "            for j in range(i+1 , len(A)):\n",
    "                if (A[j] < 0):\n",
    "                    flag3 = 1\n",
    "                else:\n",
    "                    flag3 = 0\n",
    "                if flag3 != flag2:\n",
    "                    y = A[j]\n",
    "                    A[j] = A[i]\n",
    "                    A[i] = y\n",
    "                    break\n",
    "                    \n",
    "A = [ 9, -3, 5, -2, -8, -6, 1,3]\n",
    "alternateSigns(A)    \n",
    "print(A)"
   ]
  },
  {
   "cell_type": "code",
   "execution_count": null,
   "id": "a0201767",
   "metadata": {},
   "outputs": [],
   "source": []
  }
 ],
 "metadata": {
  "kernelspec": {
   "display_name": "Python 3",
   "language": "python",
   "name": "python3"
  },
  "language_info": {
   "codemirror_mode": {
    "name": "ipython",
    "version": 3
   },
   "file_extension": ".py",
   "mimetype": "text/x-python",
   "name": "python",
   "nbconvert_exporter": "python",
   "pygments_lexer": "ipython3",
   "version": "3.8.8"
  }
 },
 "nbformat": 4,
 "nbformat_minor": 5
}
