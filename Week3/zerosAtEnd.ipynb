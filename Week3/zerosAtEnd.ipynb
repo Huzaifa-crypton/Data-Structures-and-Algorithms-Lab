{
 "cells": [
  {
   "cell_type": "code",
   "execution_count": 4,
   "id": "4a449483",
   "metadata": {},
   "outputs": [
    {
     "name": "stdout",
     "output_type": "stream",
     "text": [
      "[6, 8, 2, 3, 4, 1, 0, 0, 0]\n"
     ]
    }
   ],
   "source": [
    "def moveZerosBubbleSortTech(A):\n",
    "    a = 0\n",
    "    j = len(A)-2\n",
    "    while a < j:\n",
    "        for i in range(j+1):\n",
    "            if(A[i] == 0 ):\n",
    "                y = A[i]\n",
    "                A[i] = A[i+1]\n",
    "                A[i+1] = y\n",
    "        j-=1\n",
    "A=[ 6, 0, 8, 2, 3, 0, 4, 0, 1]\n",
    "moveZerosBubbleSortTech(A)\n",
    "print(A)"
   ]
  },
  {
   "cell_type": "code",
   "execution_count": null,
   "id": "4f69381e",
   "metadata": {},
   "outputs": [],
   "source": []
  }
 ],
 "metadata": {
  "kernelspec": {
   "display_name": "Python 3",
   "language": "python",
   "name": "python3"
  },
  "language_info": {
   "codemirror_mode": {
    "name": "ipython",
    "version": 3
   },
   "file_extension": ".py",
   "mimetype": "text/x-python",
   "name": "python",
   "nbconvert_exporter": "python",
   "pygments_lexer": "ipython3",
   "version": "3.8.8"
  }
 },
 "nbformat": 4,
 "nbformat_minor": 5
}
