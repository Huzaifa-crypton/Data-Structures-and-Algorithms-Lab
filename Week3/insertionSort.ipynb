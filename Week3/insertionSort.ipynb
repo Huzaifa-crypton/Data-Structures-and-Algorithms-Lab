{
 "cells": [
  {
   "cell_type": "code",
   "execution_count": 4,
   "id": "dd02dca5",
   "metadata": {},
   "outputs": [
    {
     "name": "stdout",
     "output_type": "stream",
     "text": [
      "[-15, -12, -8, -7, -4, 0, 1, 2, 3, 4, 5, 6, 7, 9, 10, 12]\n"
     ]
    }
   ],
   "source": [
    "def insertionSort(A):\n",
    "    for i in range(1, len(A)):\n",
    "        currentNum = A[i]\n",
    "        for j in range (i-1 , -1 , -1):\n",
    "            if (currentNum < A[j]):\n",
    "                A[j+1] = A[j]\n",
    "                A[j] = currentNum\n",
    "            else :\n",
    "                A[j+1] = currentNum\n",
    "                break\n",
    "A= [ 5, 7, -8, 9, 10, 4, -7, 0,-12, 1, 6, 2, 3, -4, -15, 12 ]\n",
    "insertionSort(A)       \n",
    "print(A)\n",
    "        "
   ]
  },
  {
   "cell_type": "code",
   "execution_count": null,
   "id": "0af77e80",
   "metadata": {},
   "outputs": [],
   "source": []
  },
  {
   "cell_type": "code",
   "execution_count": null,
   "id": "7432a450",
   "metadata": {},
   "outputs": [],
   "source": []
  }
 ],
 "metadata": {
  "kernelspec": {
   "display_name": "Python 3",
   "language": "python",
   "name": "python3"
  },
  "language_info": {
   "codemirror_mode": {
    "name": "ipython",
    "version": 3
   },
   "file_extension": ".py",
   "mimetype": "text/x-python",
   "name": "python",
   "nbconvert_exporter": "python",
   "pygments_lexer": "ipython3",
   "version": "3.8.8"
  }
 },
 "nbformat": 4,
 "nbformat_minor": 5
}
