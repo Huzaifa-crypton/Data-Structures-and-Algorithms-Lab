{
 "cells": [
  {
   "cell_type": "code",
   "execution_count": 41,
   "id": "be8cc632",
   "metadata": {},
   "outputs": [
    {
     "name": "stdout",
     "output_type": "stream",
     "text": [
      "[1, 3, 4, 9, 9]\n"
     ]
    }
   ],
   "source": [
    "def quickSort(A , low , high):\n",
    "    if low < high :\n",
    "        pi = partition(A , low , high)\n",
    "        quickSort(A , low , pi-1)\n",
    "        quickSort(A , pi+1 , high)\n",
    "def partition(A , low , high):\n",
    "    pivot = A[high]\n",
    "    i = low\n",
    "    for j in range (low , high):\n",
    "        if (A[j]<pivot):\n",
    "            y = A[i]\n",
    "            A[i] = A[j]\n",
    "            A[j] = y\n",
    "            i+=1\n",
    "    A[high] = A[i]\n",
    "    A[i] = pivot\n",
    "    return i\n",
    "A = [4,1,3,9,9]\n",
    "quickSort(A , 0 , 4)\n",
    "print(A)\n",
    "    "
   ]
  },
  {
   "cell_type": "code",
   "execution_count": 43,
   "id": "dc91b8bb",
   "metadata": {},
   "outputs": [
    {
     "name": "stdout",
     "output_type": "stream",
     "text": [
      "20\n"
     ]
    }
   ],
   "source": [
    "def quickSelection(A , left , right , k):\n",
    "    if left == right:\n",
    "        return A[left]\n",
    "    else:\n",
    "        pivotIndex = partition(A , left , right)\n",
    "    \n",
    "        if k-1 == pivotIndex:\n",
    "            return A[k-1]\n",
    "        elif k-1 < pivotIndex:\n",
    "            right = pivotIndex-1\n",
    "        else :\n",
    "            left = pivotIndex+1\n",
    "        return (quickSelection(A , left , right , k))\n",
    "A = [1,20,14,3,22,22]\n",
    "print(quickSelection(A , 0 , 5 , 4))        "
   ]
  },
  {
   "cell_type": "code",
   "execution_count": null,
   "id": "d2f3f92b",
   "metadata": {},
   "outputs": [],
   "source": []
  },
  {
   "cell_type": "code",
   "execution_count": null,
   "id": "0fcd8e6c",
   "metadata": {},
   "outputs": [],
   "source": []
  }
 ],
 "metadata": {
  "kernelspec": {
   "display_name": "Python 3",
   "language": "python",
   "name": "python3"
  },
  "language_info": {
   "codemirror_mode": {
    "name": "ipython",
    "version": 3
   },
   "file_extension": ".py",
   "mimetype": "text/x-python",
   "name": "python",
   "nbconvert_exporter": "python",
   "pygments_lexer": "ipython3",
   "version": "3.8.8"
  }
 },
 "nbformat": 4,
 "nbformat_minor": 5
}
