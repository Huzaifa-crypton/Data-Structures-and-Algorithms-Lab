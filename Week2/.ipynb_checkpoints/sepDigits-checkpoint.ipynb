{
 "cells": [
  {
   "cell_type": "code",
   "execution_count": null,
   "id": "fcf899f4",
   "metadata": {},
   "outputs": [],
   "source": [
    "def digits(num):\n",
    "    remainder = num%10\n",
    "    num = num - remainder\n",
    "    num = num / 10\n",
    "    if(num == 1):\n",
    "        print(1)\n",
    "    else:\n",
    "        digits(num)\n",
    "    "
   ]
  }
 ],
 "metadata": {
  "kernelspec": {
   "display_name": "Python 3",
   "language": "python",
   "name": "python3"
  },
  "language_info": {
   "codemirror_mode": {
    "name": "ipython",
    "version": 3
   },
   "file_extension": ".py",
   "mimetype": "text/x-python",
   "name": "python",
   "nbconvert_exporter": "python",
   "pygments_lexer": "ipython3",
   "version": "3.8.8"
  }
 },
 "nbformat": 4,
 "nbformat_minor": 5
}
