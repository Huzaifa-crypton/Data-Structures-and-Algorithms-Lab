{
 "cells": [
  {
   "cell_type": "code",
   "execution_count": 18,
   "id": "71875981",
   "metadata": {},
   "outputs": [
    {
     "name": "stdout",
     "output_type": "stream",
     "text": [
      "VALUE AT INDEX 0\n"
     ]
    }
   ],
   "source": [
    "num = [1,2,3,4,5,6,7,8,32,90]\n",
    "#     [0,1,2,3,4,5,6,7, 8, 9]\n",
    "def binarySearch(array ,stIdx , endIdx , value): \n",
    "    arrCenter = (stIdx+endIdx)//2\n",
    "    if(array[arrCenter] == value):\n",
    "        return print(\"VALUE AT INDEX \" + str(arrCenter))\n",
    "    if(stIdx == endIdx):\n",
    "        print(\"Not Found\")\n",
    "    elif (array[arrCenter] < value):\n",
    "            binarySearch(array ,arrCenter+1 , endIdx , value)\n",
    "    else:\n",
    "        binarySearch(array ,stIdx , arrCenter-1 , value)\n",
    "    \n",
    "binarySearch(num ,0 , len(num)-1 , 1)    \n",
    "    "
   ]
  },
  {
   "cell_type": "code",
   "execution_count": 21,
   "id": "bf308d4c",
   "metadata": {},
   "outputs": [
    {
     "name": "stdout",
     "output_type": "stream",
     "text": [
      "Not FOund\n"
     ]
    }
   ],
   "source": [
    "def linearSearch(array , idx, value):\n",
    "    if idx == len(array):\n",
    "        return print(\"Not FOund\")\n",
    "    if (array[idx] == value):\n",
    "        return print(\"VALUE AT INDEX \" + str(idx))\n",
    "    else:\n",
    "        linearSearch(array , idx+1, value)\n",
    "linearSearch(num , 0 , 12)"
   ]
  },
  {
   "cell_type": "code",
   "execution_count": null,
   "id": "418ccfe7",
   "metadata": {},
   "outputs": [],
   "source": []
  }
 ],
 "metadata": {
  "kernelspec": {
   "display_name": "Python 3",
   "language": "python",
   "name": "python3"
  },
  "language_info": {
   "codemirror_mode": {
    "name": "ipython",
    "version": 3
   },
   "file_extension": ".py",
   "mimetype": "text/x-python",
   "name": "python",
   "nbconvert_exporter": "python",
   "pygments_lexer": "ipython3",
   "version": "3.8.8"
  }
 },
 "nbformat": 4,
 "nbformat_minor": 5
}
