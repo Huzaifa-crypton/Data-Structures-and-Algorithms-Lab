{
 "cells": [
  {
   "cell_type": "code",
   "execution_count": 5,
   "id": "ab68653d",
   "metadata": {},
   "outputs": [
    {
     "name": "stdout",
     "output_type": "stream",
     "text": [
      "[0, 1, 1, 2, 3, 5, 8, 13]\n"
     ]
    }
   ],
   "source": [
    "fibonacciarray = []\n",
    "# print(len(fibonacciarray))\n",
    "def fibonnaci(array , value):\n",
    "    if(len(array) == 0):\n",
    "        array.append(0)\n",
    "    if(len(array) == 1):\n",
    "        array.append(1)\n",
    "    sum = array[len(array) - 1] + array[len(array) - 2]\n",
    "    array.append(sum)\n",
    "    if (array[len(array)-1] == value):\n",
    "        print(array)\n",
    "    else:\n",
    "        fibonnaci(array , value)\n",
    "fibonnaci(fibonacciarray , 13)    \n",
    "    "
   ]
  },
  {
   "cell_type": "code",
   "execution_count": null,
   "id": "da940368",
   "metadata": {},
   "outputs": [],
   "source": []
  }
 ],
 "metadata": {
  "kernelspec": {
   "display_name": "Python 3",
   "language": "python",
   "name": "python3"
  },
  "language_info": {
   "codemirror_mode": {
    "name": "ipython",
    "version": 3
   },
   "file_extension": ".py",
   "mimetype": "text/x-python",
   "name": "python",
   "nbconvert_exporter": "python",
   "pygments_lexer": "ipython3",
   "version": "3.8.8"
  }
 },
 "nbformat": 4,
 "nbformat_minor": 5
}
