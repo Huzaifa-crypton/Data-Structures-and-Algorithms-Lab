{
 "cells": [
  {
   "cell_type": "code",
   "execution_count": 1,
   "id": "5255f3b5",
   "metadata": {},
   "outputs": [
    {
     "name": "stdout",
     "output_type": "stream",
     "text": [
      "This file is just to test the read and write functions in python\n",
      "I will be add ing more content using the sentence More Content has been addedNow the file has more content\n",
      "\n",
      "Now the file has more content\n",
      "Now the file has more content\n",
      "Now the file has more content\n",
      "Now the file has more content\n",
      "This file is just to test the read and write functions in python\n",
      "I will be add ing more content using the sentence More Content has been addedNow the file has more content\n",
      "\n",
      "Now the file has more content\n",
      "Now the file has more content\n",
      "Now the file has more content\n",
      "Now the file has more content\n",
      "Now the file has more content\n"
     ]
    }
   ],
   "source": [
    "f = open(\"test.txt\", \"r\")\n",
    "print(f.read())\n",
    "f = open(\"test.txt\", \"a\")\n",
    "f.write(\"\\n\")\n",
    "f.write(\"Now the file has more content\")\n",
    "\n",
    "f.close()\n",
    "f = open(\"test.txt\", \"r\")\n",
    "print(f.read())"
   ]
  },
  {
   "cell_type": "code",
   "execution_count": null,
   "id": "7d4c1454",
   "metadata": {},
   "outputs": [],
   "source": []
  }
 ],
 "metadata": {
  "kernelspec": {
   "display_name": "Python 3",
   "language": "python",
   "name": "python3"
  },
  "language_info": {
   "codemirror_mode": {
    "name": "ipython",
    "version": 3
   },
   "file_extension": ".py",
   "mimetype": "text/x-python",
   "name": "python",
   "nbconvert_exporter": "python",
   "pygments_lexer": "ipython3",
   "version": "3.8.8"
  }
 },
 "nbformat": 4,
 "nbformat_minor": 5
}
