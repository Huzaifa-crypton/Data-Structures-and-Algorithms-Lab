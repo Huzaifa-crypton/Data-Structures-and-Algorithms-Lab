{
 "cells": [
  {
   "cell_type": "code",
   "execution_count": 1,
   "id": "e49ba080",
   "metadata": {},
   "outputs": [
    {
     "name": "stdout",
     "output_type": "stream",
     "text": [
      "[0.1234, 0.3434, 0.565, 0.634, 0.665, 0.897]\n"
     ]
    }
   ],
   "source": [
    "import math\n",
    "\n",
    "def bucketSort(A):\n",
    "    B=[[],[],[],[],[],[],[],[],[],[]]\n",
    "    for i in range(len(A)):\n",
    "        B[math.floor(A[i]*10)].append(A[i])\n",
    "    return allignArray(InsertionSort(B))\n",
    "def allignArray(A):\n",
    "    output = []\n",
    "    for r in range(len(A)):\n",
    "        for c in range(len(A[r])):\n",
    "            output.append(A[r][c])\n",
    "    return output\n",
    "def InsertionSort(A):\n",
    "    for i in range(len(A)):\n",
    "        row = A[i]\n",
    "        for j in range(1 , len(row)):\n",
    "            k = j-1\n",
    "            current = row[j]\n",
    "            while (row[k] > current and k>=0):\n",
    "                row[k+1] = row[k]\n",
    "                k-=1\n",
    "            row[k+1] = current    \n",
    "    return A\n",
    "    \n",
    "A = [0.897, 0.565, 0.665,0.1234, 0.634, 0.3434]        \n",
    "print(bucketSort(A))"
   ]
  },
  {
   "cell_type": "code",
   "execution_count": null,
   "id": "12d57441",
   "metadata": {},
   "outputs": [],
   "source": []
  }
 ],
 "metadata": {
  "interpreter": {
   "hash": "b3ba2566441a7c06988d0923437866b63cedc61552a5af99d1f4fb67d367b25f"
  },
  "kernelspec": {
   "display_name": "Python 3.8.8 64-bit ('base': conda)",
   "name": "python3"
  },
  "language_info": {
   "codemirror_mode": {
    "name": "ipython",
    "version": 3
   },
   "file_extension": ".py",
   "mimetype": "text/x-python",
   "name": "python",
   "nbconvert_exporter": "python",
   "pygments_lexer": "ipython3",
   "version": "3.8.8"
  }
 },
 "nbformat": 4,
 "nbformat_minor": 5
}
