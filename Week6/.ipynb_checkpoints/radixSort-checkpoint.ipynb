{
 "cells": [
  {
   "cell_type": "code",
   "execution_count": 6,
   "id": "03a72f13",
   "metadata": {},
   "outputs": [
    {
     "name": "stdout",
     "output_type": "stream",
     "text": [
      "110 0\n",
      "602 5\n",
      "110 0\n",
      "602 5\n",
      "110 0\n",
      "602 5\n",
      "None\n"
     ]
    }
   ],
   "source": [
    "def CountingSort(A , index , maximum):\n",
    "    currentIDXARRAY = []\n",
    "    for i in range(len(A)):\n",
    "        num = len(str(A[i]))\n",
    "        if(num < maximum):\n",
    "            newNum = addZeros(A[i] , maximum)\n",
    "            currentIDXARRAY.append(int(newNum[index]))\n",
    "        else:\n",
    "            newNum = str(A[i])\n",
    "            print(newNum + \" \"+str(i))\n",
    "            currentIDXARRAY.append(int(newNum[index]))\n",
    "    print(currentIDXARRAY)\n",
    "    size = (max(currentIDXARRAY) - min(currentIDXARRAY)) + 1\n",
    "    count = []\n",
    "    output = [0]*(len(A))\n",
    "    \n",
    "#     Making an array of size with 0 stored at each place\n",
    "    for i in range(size+1):\n",
    "        count.append(0)\n",
    "        \n",
    "#   counting the occurence of each element\n",
    "    for i in range(len(A)):\n",
    "        count[key(currentIDXARRAY,i)]+=1        \n",
    "    \n",
    "    for i in range(1,len(count)):\n",
    "        count[i] += count[i-1]\n",
    "    \n",
    "    for i in range(len(A)-1 , -1 , -1):\n",
    "        count[key(currentIDXARRAY,i)] -= 1\n",
    "        output[count[key(currentIDXARRAY,i)]]= A[i]\n",
    "    return output\n",
    "\n",
    "\n",
    "\n",
    "def key(A , i):\n",
    "    return(A[i]+(-1*min(A)))\n",
    "\n",
    "\n",
    "def addZeros(A , digits):\n",
    "    length = len(str(A))\n",
    "    diff = digits - length\n",
    "    for i in range(diff):\n",
    "        A = \"0\"+str(A)\n",
    "    return A\n",
    "\n",
    "def RadixSort(A):\n",
    "    maximum = len(str(max(A)))\n",
    "    for i in range (maximum-1,-1,-1):\n",
    "        CountingSort(A , i , maximum)\n",
    "A = [110, 45, 65,50, 90,602, 24, 2, 66]    \n",
    "print(RadixSort(A))"
   ]
  },
  {
   "cell_type": "code",
   "execution_count": null,
   "id": "338d1e8e",
   "metadata": {},
   "outputs": [],
   "source": []
  }
 ],
 "metadata": {
  "kernelspec": {
   "display_name": "Python 3",
   "language": "python",
   "name": "python3"
  },
  "language_info": {
   "codemirror_mode": {
    "name": "ipython",
    "version": 3
   },
   "file_extension": ".py",
   "mimetype": "text/x-python",
   "name": "python",
   "nbconvert_exporter": "python",
   "pygments_lexer": "ipython3",
   "version": "3.8.8"
  }
 },
 "nbformat": 4,
 "nbformat_minor": 5
}
