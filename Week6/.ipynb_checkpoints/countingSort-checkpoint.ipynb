{
 "cells": [
  {
   "cell_type": "code",
   "execution_count": 29,
   "id": "03c1d10f",
   "metadata": {},
   "outputs": [
    {
     "name": "stdout",
     "output_type": "stream",
     "text": [
      "21\n",
      "[0, 0, 0, 0, 0, 0, 0, 0]\n",
      "[0, 0, 0, 0, 0, 0, 0, 0, 0, 0, 0, 0, 0, 0, 0, 0, 0, 0, 0, 0, 0, 0]\n",
      "[1, 0, 0, 0, 0, 1, 0, 1, 0, 1, 1, 0, 0, 0, 0, 1, 0, 0, 1, 0, 1, 0]\n",
      "[1, 1, 1, 1, 1, 2, 2, 3, 3, 4, 5, 5, 5, 5, 5, 6, 6, 6, 7, 7, 8, 8]\n",
      "[-10, -5, -3, -1, 0, 5, 8, 10]\n"
     ]
    }
   ],
   "source": [
    "def CountingSort(A):\n",
    "    size = (max(A) - min(A)) + 1\n",
    "    count = []\n",
    "    output = [0]*(len(A))\n",
    "    \n",
    "#     Making an array of size with 0 stored at each place\n",
    "    for i in range(size+1):\n",
    "        count.append(0)\n",
    "        \n",
    "#   counting the occurence of each element\n",
    "    for i in range(len(A)):\n",
    "        count[key(A,i)]+=1        \n",
    "    \n",
    "    for i in range(1,len(count)):\n",
    "        count[i] += count[i-1]\n",
    "    \n",
    "    for i in range(len(A)-1 , -1 , -1):\n",
    "        count[key(A,i)]-=1\n",
    "        output[count[key(A,i)]]= A[i]\n",
    "    return output\n",
    "def key(A , i):\n",
    "    return(A[i]+(-1*min(A)))\n",
    "    \n",
    "    \n",
    "    \n",
    "    \n",
    "    \n",
    "    \n",
    "print(CountingSort([-5, -10, 0, -3, 8, 5,-1, 10]))    "
   ]
  },
  {
   "cell_type": "code",
   "execution_count": null,
   "id": "dd955563",
   "metadata": {},
   "outputs": [],
   "source": []
  }
 ],
 "metadata": {
  "kernelspec": {
   "display_name": "Python 3",
   "language": "python",
   "name": "python3"
  },
  "language_info": {
   "codemirror_mode": {
    "name": "ipython",
    "version": 3
   },
   "file_extension": ".py",
   "mimetype": "text/x-python",
   "name": "python",
   "nbconvert_exporter": "python",
   "pygments_lexer": "ipython3",
   "version": "3.8.8"
  }
 },
 "nbformat": 4,
 "nbformat_minor": 5
}
