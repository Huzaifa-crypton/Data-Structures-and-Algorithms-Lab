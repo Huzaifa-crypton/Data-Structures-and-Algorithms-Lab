{
 "cells": [
  {
   "cell_type": "code",
   "execution_count": 5,
   "id": "b8d648ec",
   "metadata": {},
   "outputs": [
    {
     "ename": "SyntaxError",
     "evalue": "invalid syntax (<ipython-input-5-8d74135f9078>, line 7)",
     "output_type": "error",
     "traceback": [
      "\u001b[1;36m  File \u001b[1;32m\"<ipython-input-5-8d74135f9078>\"\u001b[1;36m, line \u001b[1;32m7\u001b[0m\n\u001b[1;33m    return allignArray(InsertionSort(B))\u001b[0m\n\u001b[1;37m    ^\u001b[0m\n\u001b[1;31mSyntaxError\u001b[0m\u001b[1;31m:\u001b[0m invalid syntax\n"
     ]
    }
   ],
   "source": [
    "import math\n",
    "\n",
    "def bucketSort(A):\n",
    "    B=[[],[],[],[],[],[],[],[],[],[]]\n",
    "    for i in range(len(A)):\n",
    "        B[math.floor(A[i]*10)].append(A[i])\n",
    "    return allignArray(InsertionSort(B))\n",
    "def allignArray(A):\n",
    "    output = []\n",
    "    for r in range(len(A)):\n",
    "        for c in range(len(A[r])):\n",
    "            output.append(A[r][c])\n",
    "    return output\n",
    "def InsertionSort(A):\n",
    "    for i in range(len(A)):\n",
    "        row = A[i]\n",
    "        for j in range(1 , len(row)):\n",
    "            k = j-1\n",
    "            current = row[j]\n",
    "            while (row[k] > current and k>=0):\n",
    "                row[k+1] = row[k]\n",
    "                k-=1\n",
    "            row[k+1] = current    \n",
    "    return A\n",
    "    \n",
    "A = [0.897, 0.565, 0.665,0.1234, 0.634, 0.3434]        \n",
    "print(bucketSort(A))"
   ]
  },
  {
   "cell_type": "code",
   "execution_count": null,
   "id": "3c07260f",
   "metadata": {},
   "outputs": [],
   "source": []
  }
 ],
 "metadata": {
  "kernelspec": {
   "display_name": "Python 3",
   "language": "python",
   "name": "python3"
  },
  "language_info": {
   "codemirror_mode": {
    "name": "ipython",
    "version": 3
   },
   "file_extension": ".py",
   "mimetype": "text/x-python",
   "name": "python",
   "nbconvert_exporter": "python",
   "pygments_lexer": "ipython3",
   "version": "3.8.8"
  }
 },
 "nbformat": 4,
 "nbformat_minor": 5
}
