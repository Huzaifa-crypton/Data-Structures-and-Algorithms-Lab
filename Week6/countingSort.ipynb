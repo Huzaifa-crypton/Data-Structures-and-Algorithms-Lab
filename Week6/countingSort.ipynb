{
 "cells": [
  {
   "cell_type": "code",
   "execution_count": 1,
   "id": "262ea7b0",
   "metadata": {},
   "outputs": [
    {
     "name": "stdout",
     "output_type": "stream",
     "text": [
      "[2, 2, 5, 6, 6, 7, 56, 89, 123, 366, 435, 525, 4556]\n"
     ]
    }
   ],
   "source": [
    "def CountingSort(A):\n",
    "    size = (max(A) - min(A)) + 1\n",
    "    count = []\n",
    "    output = [0]*(len(A))\n",
    "    \n",
    "#   Making an array of size with 0 stored at each place\n",
    "    for i in range(size+1):\n",
    "        count.append(0)\n",
    "        \n",
    "#   counting the occurence of each element\n",
    "    for i in range(len(A)):\n",
    "        count[key(A,i)]+=1        \n",
    "    \n",
    "    for i in range(1,len(count)):\n",
    "        count[i] += count[i-1]\n",
    "    \n",
    "    for i in range(len(A)-1 , -1 , -1):\n",
    "        count[key(A,i)]-=1\n",
    "        output[count[key(A,i)]]= A[i]\n",
    "    return output\n",
    "def key(A , i):\n",
    "    return(A[i]+(-1*min(A)))\n",
    "    \n",
    "print(CountingSort([5,89,123,366,2,6,435,56,4556,2,525,6,7]))    "
   ]
  },
  {
   "cell_type": "code",
   "execution_count": null,
   "id": "db9b4fe5",
   "metadata": {},
   "outputs": [],
   "source": []
  },
  {
   "cell_type": "code",
   "execution_count": null,
   "id": "9397aa74",
   "metadata": {},
   "outputs": [],
   "source": []
  }
 ],
 "metadata": {
  "interpreter": {
   "hash": "b3ba2566441a7c06988d0923437866b63cedc61552a5af99d1f4fb67d367b25f"
  },
  "kernelspec": {
   "display_name": "Python 3.8.8 64-bit ('base': conda)",
   "name": "python3"
  },
  "language_info": {
   "codemirror_mode": {
    "name": "ipython",
    "version": 3
   },
   "file_extension": ".py",
   "mimetype": "text/x-python",
   "name": "python",
   "nbconvert_exporter": "python",
   "pygments_lexer": "ipython3",
   "version": "3.8.8"
  }
 },
 "nbformat": 4,
 "nbformat_minor": 5
}
