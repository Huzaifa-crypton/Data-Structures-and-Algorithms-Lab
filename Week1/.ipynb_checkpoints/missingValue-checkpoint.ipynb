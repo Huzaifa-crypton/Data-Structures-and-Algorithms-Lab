{
 "cells": [
  {
   "cell_type": "code",
   "execution_count": null,
   "id": "0a33dcdc",
   "metadata": {},
   "outputs": [],
   "source": [
    "myArray = [1,2,3,4,6]\n",
    "myflag = False\n",
    "for i in range(1,6):\n",
    "    myflag = False\n",
    "    for idx in range(0,len(myArray)):\n",
    "        if(i == myArray[idx]):\n",
    "            myflag = True\n",
    "    if myflag == False:\n",
    "        print(str(i) + \" NOT FOUND\")"
   ]
  }
 ],
 "metadata": {
  "kernelspec": {
   "display_name": "Python 3",
   "language": "python",
   "name": "python3"
  },
  "language_info": {
   "codemirror_mode": {
    "name": "ipython",
    "version": 3
   },
   "file_extension": ".py",
   "mimetype": "text/x-python",
   "name": "python",
   "nbconvert_exporter": "python",
   "pygments_lexer": "ipython3",
   "version": "3.8.8"
  }
 },
 "nbformat": 4,
 "nbformat_minor": 5
}
