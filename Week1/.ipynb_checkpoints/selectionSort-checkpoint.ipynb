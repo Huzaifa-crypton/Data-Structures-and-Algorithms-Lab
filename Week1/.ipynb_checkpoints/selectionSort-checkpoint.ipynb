{
 "cells": [
  {
   "cell_type": "code",
   "execution_count": null,
   "id": "8fd14a2f",
   "metadata": {},
   "outputs": [],
   "source": [
    "x = []\n",
    "y = []\n",
    "F = []\n",
    "def inputArray(array,i):\n",
    "    for i in range(i):\n",
    "        array.append(int(input(\"Enter YOUR number:\")))\n",
    "def sortArray(my_array):\n",
    "    for i in range(len(my_array)):\n",
    "        for n in range(i+1,len(my_array)):\n",
    "            if my_array[n] < my_array[i]:\n",
    "                new =  my_array[i]\n",
    "                my_array[i] = my_array[n]\n",
    "                my_array[n] = new\n",
    "def showArray(array):\n",
    "    print(array)\n",
    "inputArray(y , 4)\n",
    "inputArray(x , 5)\n",
    "for i in range(len(y)):\n",
    "    F.append(y[i])\n",
    "for b in range(len(x)):\n",
    "    F.append(x[b])     \n",
    "\n",
    "sortArray(F)\n",
    "showArray(F)    \n"
   ]
  }
 ],
 "metadata": {
  "kernelspec": {
   "display_name": "Python 3",
   "language": "python",
   "name": "python3"
  },
  "language_info": {
   "codemirror_mode": {
    "name": "ipython",
    "version": 3
   },
   "file_extension": ".py",
   "mimetype": "text/x-python",
   "name": "python",
   "nbconvert_exporter": "python",
   "pygments_lexer": "ipython3",
   "version": "3.8.8"
  }
 },
 "nbformat": 4,
 "nbformat_minor": 5
}
