{
 "cells": [
  {
   "cell_type": "code",
   "execution_count": null,
   "id": "f48b779f",
   "metadata": {},
   "outputs": [],
   "source": [
    "num1 = (input(\"Enter Number1: \"))\n",
    "num2 = (input(\"Enter Number2: \"))\n",
    "def makeLengthEqual(num1 , length):\n",
    "    for i in range(len(num1) , length):\n",
    "        num1 = \"0\"+num1\n",
    "    return num1    \n",
    "#def makeLengthEven(num1 , num2):\n",
    "\n",
    "\n",
    "def KaratsubaMultiplication( x , y ):\n",
    "    n = 0\n",
    "    n1 = len(x)\n",
    "    n2 = len(y)\n",
    "    \n",
    "#     x = a b\n",
    "#     y= c d\n",
    "    if (n1 != n2):\n",
    "        if (n1 > n2):\n",
    "            y = makeLengthEqual(y , n1)\n",
    "        else:\n",
    "            x = makeLengthEqual(x , n2)\n",
    "            \n",
    "    n = len(x)\n",
    "    if(n%2!=0 and n != 1):\n",
    "        x = \"0\"+x\n",
    "        y= \"0\"+y \n",
    "    n= len(x)\n",
    "    if (n == 1):\n",
    "        return int(x)*int(y)\n",
    "    else:\n",
    "        half = int(n/2)\n",
    "        a = \"\"\n",
    "        b = \"\"\n",
    "        c = \"\"\n",
    "        d = \"\"\n",
    "        for i in range (int(half)):\n",
    "            a = a + x[i]\n",
    "            c = c + y[i]\n",
    "        for i in range (int(half),n):\n",
    "            b = b + x[i]\n",
    "            d = d + y[i]\n",
    "        p = int(a) + int(b)\n",
    "        q = int(c) + int(d)\n",
    "        pq = KaratsubaMultiplication(str(p),str(q))\n",
    "        ac = KaratsubaMultiplication(a,c)\n",
    "        bd = KaratsubaMultiplication(b,d)\n",
    "        adbc = int(pq) - int(ac) - int(bd)\n",
    "        return 10**n*ac + 10**(n/2)*adbc + bd\n",
    "print(KaratsubaMultiplication(num1 , num2))    "
   ]
  }
 ],
 "metadata": {
  "kernelspec": {
   "display_name": "Python 3",
   "language": "python",
   "name": "python3"
  },
  "language_info": {
   "codemirror_mode": {
    "name": "ipython",
    "version": 3
   },
   "file_extension": ".py",
   "mimetype": "text/x-python",
   "name": "python",
   "nbconvert_exporter": "python",
   "pygments_lexer": "ipython3",
   "version": "3.8.8"
  }
 },
 "nbformat": 4,
 "nbformat_minor": 5
}
