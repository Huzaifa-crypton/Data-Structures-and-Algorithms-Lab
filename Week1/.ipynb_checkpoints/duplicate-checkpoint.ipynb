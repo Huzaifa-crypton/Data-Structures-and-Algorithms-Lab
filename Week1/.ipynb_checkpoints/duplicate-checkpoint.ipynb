{
 "cells": [
  {
   "cell_type": "code",
   "execution_count": null,
   "id": "7dba9017",
   "metadata": {},
   "outputs": [],
   "source": [
    "number = []\n",
    "for i in range(4):\n",
    "    number.append(input(\"Enter YOUR number\"))\n",
    "for a in range(0,4):\n",
    "    for b in range (a+1 , 4):\n",
    "        if number[a] == number[b]:\n",
    "            print(\"Duplicate Value is: \"+ (number[a]))"
   ]
  }
 ],
 "metadata": {
  "kernelspec": {
   "display_name": "Python 3",
   "language": "python",
   "name": "python3"
  },
  "language_info": {
   "codemirror_mode": {
    "name": "ipython",
    "version": 3
   },
   "file_extension": ".py",
   "mimetype": "text/x-python",
   "name": "python",
   "nbconvert_exporter": "python",
   "pygments_lexer": "ipython3",
   "version": "3.8.8"
  }
 },
 "nbformat": 4,
 "nbformat_minor": 5
}
