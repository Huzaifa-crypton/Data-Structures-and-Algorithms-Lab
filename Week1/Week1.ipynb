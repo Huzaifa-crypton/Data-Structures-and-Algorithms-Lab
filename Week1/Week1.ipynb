{
 "cells": [
  {
   "cell_type": "code",
   "execution_count": 4,
   "id": "c42cd425",
   "metadata": {},
   "outputs": [
    {
     "name": "stdout",
     "output_type": "stream",
     "text": [
      "Heelo World\n"
     ]
    }
   ],
   "source": [
    "print(\"Heelo World\")"
   ]
  },
  {
   "cell_type": "code",
   "execution_count": 2,
   "id": "7bcb7f63",
   "metadata": {},
   "outputs": [
    {
     "name": "stdout",
     "output_type": "stream",
     "text": [
      "Enter YOUR number1\n",
      "Enter YOUR number2\n",
      "Enter YOUR number1\n",
      "Enter YOUR number0\n",
      "Duplicate Value is: 1\n"
     ]
    }
   ],
   "source": [
    "number = []\n",
    "for i in range(4):\n",
    "    number.append(input(\"Enter YOUR number\"))\n",
    "for a in range(0,4):\n",
    "    for b in range (a+1 , 4):\n",
    "        if number[a] == number[b]:\n",
    "            print(\"Duplicate Value is: \"+ (number[a]))\n",
    "        "
   ]
  },
  {
   "cell_type": "code",
   "execution_count": 3,
   "id": "5018d4b5",
   "metadata": {},
   "outputs": [
    {
     "name": "stdout",
     "output_type": "stream",
     "text": [
      "Enter YOUR number:4\n",
      "Enter YOUR number:3\n",
      "Enter YOUR number:6\n",
      "Enter YOUR number:8\n",
      "Enter YOUR number:3\n",
      "Enter YOUR number:2\n",
      "Enter YOUR number:5\n",
      "Enter YOUR number:7\n",
      "Enter YOUR number:8\n",
      "[2, 3, 3, 4, 5, 6, 7, 8, 8]\n"
     ]
    }
   ],
   "source": [
    "x = []\n",
    "y = []\n",
    "F = []\n",
    "def inputArray(array,i):\n",
    "    for i in range(i):\n",
    "        array.append(int(input(\"Enter YOUR number:\")))\n",
    "def sortArray(my_array):\n",
    "    for i in range(len(my_array)):\n",
    "        for n in range(i+1,len(my_array)):\n",
    "            if my_array[n] < my_array[i]:\n",
    "                new =  my_array[i]\n",
    "                my_array[i] = my_array[n]\n",
    "                my_array[n] = new\n",
    "def showArray(array):\n",
    "    print(array)\n",
    "inputArray(y , 4)\n",
    "inputArray(x , 5)\n",
    "for i in range(len(y)):\n",
    "    F.append(y[i])\n",
    "for b in range(len(x)):\n",
    "    F.append(x[b])     \n",
    "\n",
    "sortArray(F)\n",
    "showArray(F)    \n"
   ]
  },
  {
   "cell_type": "code",
   "execution_count": 13,
   "id": "592c91ac",
   "metadata": {},
   "outputs": [
    {
     "name": "stdout",
     "output_type": "stream",
     "text": [
      "LARGEST DIFFERENCE IS: 8\n"
     ]
    }
   ],
   "source": [
    "myArray = [2,7,9,5,1,3,5]\n",
    "largestDiff = 0;\n",
    "for i in range(len(myArray)):\n",
    "        for n in range(i+1,len(myArray)):\n",
    "            diff = myArray[i] - myArray[n]\n",
    "            if diff < 0 :\n",
    "                diff = -diff\n",
    "            if largestDiff < diff:\n",
    "                largestDiff = diff\n",
    "print(\"LARGEST DIFFERENCE IS: \"+ str(largestDiff))            "
   ]
  },
  {
   "cell_type": "code",
   "execution_count": 2,
   "id": "473846e2",
   "metadata": {},
   "outputs": [
    {
     "name": "stdout",
     "output_type": "stream",
     "text": [
      "5 NOT FOUND\n"
     ]
    }
   ],
   "source": [
    "myArray = [1,2,3,4,6]\n",
    "myflag = False\n",
    "for i in range(1,6):\n",
    "    myflag = False\n",
    "    for idx in range(0,len(myArray)):\n",
    "        if(i == myArray[idx]):\n",
    "            myflag = True\n",
    "    if myflag == False:\n",
    "        print(str(i) + \" NOT FOUND\")\n",
    "    \n",
    "    "
   ]
  },
  {
   "cell_type": "code",
   "execution_count": 1,
   "id": "52eed8b8",
   "metadata": {},
   "outputs": [
    {
     "name": "stdout",
     "output_type": "stream",
     "text": [
      "ENTER FACTORIAL NUMBER: 5\n",
      "120\n"
     ]
    }
   ],
   "source": [
    "num1 = int(input(\"ENTER FACTORIAL NUMBER: \"))\n",
    "def factorial(num):\n",
    "    if(num == 0):\n",
    "        return 1\n",
    "    else:\n",
    "        return num*factorial(num-1)\n",
    "print(factorial(num1))    \n",
    "    "
   ]
  },
  {
   "cell_type": "code",
   "execution_count": 2,
   "id": "65387332",
   "metadata": {},
   "outputs": [
    {
     "name": "stdout",
     "output_type": "stream",
     "text": [
      "ENTRER: 59\n",
      "9\n"
     ]
    }
   ],
   "source": [
    "num = int(input(\"ENTRER: \"))\n",
    "print(num%10)\n",
    "        "
   ]
  },
  {
   "cell_type": "code",
   "execution_count": 1,
   "id": "5e46b4e8",
   "metadata": {},
   "outputs": [
    {
     "name": "stdout",
     "output_type": "stream",
     "text": [
      "Enter Number1: 20\n",
      "Enter Number2: 20\n",
      "400\n"
     ]
    }
   ],
   "source": [
    "num1 = input(\"Enter Number1: \")\n",
    "num2 = input(\"Enter Number2: \")\n",
    "\n",
    "def constructTrueValue(num , digit , index):\n",
    "    for i in range(index+1 , len(num)):\n",
    "        digit = digit + \"0\"\n",
    "    return digit\n",
    " \n",
    "def multiply(n1 , n2):\n",
    "    carry = 0\n",
    "    finalResult = 0\n",
    "    result = \"\"\n",
    "    for i in range(len(n1)-1 , -1 , -1):\n",
    "        result = \"\"\n",
    "        carry = 0\n",
    "        val1 = int(n1[i])\n",
    "        for y in range(len(n2)-1 , -1 , -1):\n",
    "            val2 = int(n2[y])\n",
    "            mul = str((val1*val2)+carry)\n",
    "            if(len(mul) > 1):\n",
    "                carry = int(mul[0])\n",
    "            else:\n",
    "                carry = 0\n",
    "            result =mul[len(mul)-1] + result\n",
    "        \n",
    "        result = str(carry)+ constructTrueValue(n1 , result , i)    \n",
    "        finalResult = finalResult + int(result)\n",
    "    return(finalResult)\n",
    "\n",
    "print(multiply(num1 , num2))\n"
   ]
  },
  {
   "cell_type": "code",
   "execution_count": 2,
   "id": "326572d2",
   "metadata": {},
   "outputs": [
    {
     "name": "stdout",
     "output_type": "stream",
     "text": [
      "ENter number1: 20\n",
      "ENter number2: 30\n",
      "600\n"
     ]
    }
   ],
   "source": [
    "num1 = int(input(\"ENter number1: \"))\n",
    "num2 = int(input(\"ENter number2: \"))\n",
    "\n",
    "\n",
    "numArr1 = []\n",
    "numArr2 = []\n",
    "\n",
    "def constructTrueValue(num , digit , index):\n",
    "    for i in range(index+1 , len(num)):\n",
    "        digit = digit + \"0\"\n",
    "    return digit\n",
    "\n",
    "def separateDigits(arr , number):\n",
    "    lastDigit = number % 10\n",
    "    arr.append(int(lastDigit))\n",
    "    remNumber = number - lastDigit\n",
    "    remNumber = remNumber / 10\n",
    "        \n",
    "    if(remNumber < 10):\n",
    "        arr.append(int(remNumber))\n",
    "        arr.reverse()\n",
    "    else:\n",
    "        \n",
    "        separateDigits(arr , remNumber)\n",
    "\n",
    "def multiply(n1 , n2):\n",
    "    carry = 0\n",
    "    finalResult = 0\n",
    "    result = \"\"\n",
    "    for i in range(len(n1)-1 , -1 , -1):\n",
    "        result = \"\"\n",
    "        carry = 0\n",
    "        val1 = int(n1[i])\n",
    "        for y in range(len(n2)-1 , -1 , -1):\n",
    "            val2 = int(n2[y])\n",
    "            mul = str((val1*val2)+carry)\n",
    "            if(len(mul) > 1):\n",
    "                carry = int(mul[0])\n",
    "            else:\n",
    "                carry = 0\n",
    "            result =mul[len(mul)-1] + result\n",
    "        \n",
    "        result = str(carry)+ constructTrueValue(n1 , result , i)    \n",
    "        finalResult = finalResult + int(result)\n",
    "    return(finalResult)\n",
    "\n",
    "\n",
    "\n",
    "separateDigits(numArr1 , num1)\n",
    "separateDigits(numArr2 , num2)\n",
    "\n",
    "print(multiply(numArr1 , numArr2))\n"
   ]
  },
  {
   "cell_type": "code",
   "execution_count": 2,
   "id": "86fc4c7e",
   "metadata": {},
   "outputs": [
    {
     "name": "stdout",
     "output_type": "stream",
     "text": [
      "Enter Number1: 122\n",
      "Enter Number2: 245\n",
      "   245\n",
      "   122\n",
      "--------\n",
      "   490\n",
      "  4900\n",
      " 24500\n",
      "--------\n",
      " 29890\n"
     ]
    }
   ],
   "source": [
    "num1 = input(\"Enter Number1: \")\n",
    "num2 = input(\"Enter Number2: \")\n",
    "\n",
    "allResults = []\n",
    "allResults.append(num2)\n",
    "allResults.append(num1)\n",
    "def constructTrueValue(num , digit , index):\n",
    "    for i in range(index+1 , len(num)):\n",
    "        digit = digit + \"0\"\n",
    "    return digit\n",
    " \n",
    "def multiply(n1 , n2):\n",
    "    carry = 0\n",
    "    finalResult = 0\n",
    "    result = \"\"\n",
    "    for i in range(len(n1)-1 , -1 , -1):\n",
    "        result = \"\"\n",
    "        carry = 0\n",
    "        val1 = int(n1[i])\n",
    "        for y in range(len(n2)-1 , -1 , -1):\n",
    "            val2 = int(n2[y])\n",
    "            mul = str((val1*val2)+carry)\n",
    "            if(len(mul) > 1):\n",
    "                carry = int(mul[0])\n",
    "            else:\n",
    "                carry = 0\n",
    "            result =mul[len(mul)-1] + result\n",
    "        if(carry!=0):\n",
    "            result = str(carry)+ constructTrueValue(n1 , result , i)\n",
    "        else:\n",
    "            result = constructTrueValue(n1 , result , i)\n",
    "                \n",
    "        allResults.append(result)\n",
    "        finalResult = finalResult + int(result)\n",
    "    allResults.append(str(finalResult))\n",
    "\n",
    "def getAllNumbersLengthEqual(arr , hLenght):\n",
    "    for i in range (len(arr)):\n",
    "        for y in range(len(arr) - len(arr[i])):\n",
    "            arr[i] = \" \"+arr[i]\n",
    "def formattedResult(arr):\n",
    "    for i in range(len(arr)):\n",
    "\n",
    "        if i == len(arr)-1 or i == 2:\n",
    "            print(\"--------\")\n",
    "        print(arr[i])\n",
    "\n",
    "multiply(num1 , num2)\n",
    "getAllNumbersLengthEqual(allResults , len(allResults[len(allResults)-1]))\n",
    "formattedResult(allResults)\n"
   ]
  },
  {
   "cell_type": "code",
   "execution_count": 6,
   "id": "dcf3cd2b",
   "metadata": {},
   "outputs": [
    {
     "name": "stdout",
     "output_type": "stream",
     "text": [
      "Enter Number1: 1234\n",
      "Enter Number2: 5678\n",
      "7006652\n"
     ]
    }
   ],
   "source": [
    "num1 = int(input(\"Enter Number1: \"))\n",
    "num2 = int(input(\"Enter Number2: \"))\n",
    "# 5 * 3\n",
    "# 5 + 5 + 5\n",
    "\n",
    "\n",
    "def multRecursion(x,y):\n",
    "    if (y > x):\n",
    "        return y + multRecursion(y , x - 1)\n",
    "    if ( y == 0 ):\n",
    "        return 0\n",
    "    else:\n",
    "        return x + multRecursion(x , y - 1)\n",
    "print(multRecursion(num1,num2))    "
   ]
  },
  {
   "cell_type": "code",
   "execution_count": 3,
   "id": "78c10b21",
   "metadata": {},
   "outputs": [
    {
     "name": "stdout",
     "output_type": "stream",
     "text": [
      "Enter Number1: 14902021\n",
      "Enter Number2: 13253020\n",
      "197496782353420.0\n"
     ]
    }
   ],
   "source": [
    "num1 = (input(\"Enter Number1: \"))\n",
    "num2 = (input(\"Enter Number2: \"))\n",
    "def makeLengthEqual(num1 , length):\n",
    "    for i in range(len(num1) , length):\n",
    "        num1 = \"0\"+num1\n",
    "    return num1    \n",
    "#def makeLengthEven(num1 , num2):\n",
    "\n",
    "\n",
    "def KaratsubaMultiplication( x , y ):\n",
    "    n = 0\n",
    "    n1 = len(x)\n",
    "    n2 = len(y)\n",
    "    \n",
    "#     x = a b\n",
    "#     y= c d\n",
    "    if (n1 != n2):\n",
    "        if (n1 > n2):\n",
    "            y = makeLengthEqual(y , n1)\n",
    "        else:\n",
    "            x = makeLengthEqual(x , n2)\n",
    "            \n",
    "    n = len(x)\n",
    "    if(n%2!=0 and n != 1):\n",
    "        x = \"0\"+x\n",
    "        y= \"0\"+y \n",
    "    n= len(x)\n",
    "    if (n == 1):\n",
    "        return int(x)*int(y)\n",
    "    else:\n",
    "        half = int(n/2)\n",
    "        a = \"\"\n",
    "        b = \"\"\n",
    "        c = \"\"\n",
    "        d = \"\"\n",
    "        for i in range (int(half)):\n",
    "            a = a + x[i]\n",
    "            c = c + y[i]\n",
    "        for i in range (int(half),n):\n",
    "            b = b + x[i]\n",
    "            d = d + y[i]\n",
    "        p = int(a) + int(b)\n",
    "        q = int(c) + int(d)\n",
    "        pq = KaratsubaMultiplication(str(p),str(q))\n",
    "        ac = KaratsubaMultiplication(a,c)\n",
    "        bd = KaratsubaMultiplication(b,d)\n",
    "        adbc = int(pq) - int(ac) - int(bd)\n",
    "        return 10**n*ac + 10**(n/2)*adbc + bd\n",
    "print(KaratsubaMultiplication(num1 , num2))    "
   ]
  },
  {
   "cell_type": "code",
   "execution_count": null,
   "id": "225a65c9",
   "metadata": {},
   "outputs": [],
   "source": []
  },
  {
   "cell_type": "code",
   "execution_count": null,
   "id": "6f65455a",
   "metadata": {},
   "outputs": [],
   "source": []
  }
 ],
 "metadata": {
  "kernelspec": {
   "display_name": "Python 3",
   "language": "python",
   "name": "python3"
  },
  "language_info": {
   "codemirror_mode": {
    "name": "ipython",
    "version": 3
   },
   "file_extension": ".py",
   "mimetype": "text/x-python",
   "name": "python",
   "nbconvert_exporter": "python",
   "pygments_lexer": "ipython3",
   "version": "3.8.8"
  }
 },
 "nbformat": 4,
 "nbformat_minor": 5
}
