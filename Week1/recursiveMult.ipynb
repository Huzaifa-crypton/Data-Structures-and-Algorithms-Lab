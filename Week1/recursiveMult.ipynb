{
 "cells": [
  {
   "cell_type": "code",
   "execution_count": null,
   "id": "48c59944",
   "metadata": {},
   "outputs": [],
   "source": [
    "num1 = int(input(\"Enter Number1: \"))\n",
    "num2 = int(input(\"Enter Number2: \"))\n",
    "# 5 * 3\n",
    "# 5 + 5 + 5\n",
    "\n",
    "\n",
    "def multRecursion(x,y):\n",
    "    if (y > x):\n",
    "        return y + multRecursion(y , x - 1)\n",
    "    if ( y == 0 ):\n",
    "        return 0\n",
    "    else:\n",
    "        return x + multRecursion(x , y - 1)\n",
    "print(multRecursion(num1,num2))    "
   ]
  }
 ],
 "metadata": {
  "kernelspec": {
   "display_name": "Python 3",
   "language": "python",
   "name": "python3"
  },
  "language_info": {
   "codemirror_mode": {
    "name": "ipython",
    "version": 3
   },
   "file_extension": ".py",
   "mimetype": "text/x-python",
   "name": "python",
   "nbconvert_exporter": "python",
   "pygments_lexer": "ipython3",
   "version": "3.8.8"
  }
 },
 "nbformat": 4,
 "nbformat_minor": 5
}
