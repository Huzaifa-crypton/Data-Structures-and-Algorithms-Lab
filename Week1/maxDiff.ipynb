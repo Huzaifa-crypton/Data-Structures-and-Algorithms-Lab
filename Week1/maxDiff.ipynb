{
 "cells": [
  {
   "cell_type": "code",
   "execution_count": null,
   "id": "73777d2d",
   "metadata": {},
   "outputs": [],
   "source": [
    "myArray = [2,7,9,5,1,3,5]\n",
    "largestDiff = 0;\n",
    "for i in range(len(myArray)):\n",
    "        for n in range(i+1,len(myArray)):\n",
    "            diff = myArray[i] - myArray[n]\n",
    "            if diff < 0 :\n",
    "                diff = -diff\n",
    "            if largestDiff < diff:\n",
    "                largestDiff = diff\n",
    "print(\"LARGEST DIFFERENCE IS: \"+ str(largestDiff))   "
   ]
  }
 ],
 "metadata": {
  "kernelspec": {
   "display_name": "Python 3",
   "language": "python",
   "name": "python3"
  },
  "language_info": {
   "codemirror_mode": {
    "name": "ipython",
    "version": 3
   },
   "file_extension": ".py",
   "mimetype": "text/x-python",
   "name": "python",
   "nbconvert_exporter": "python",
   "pygments_lexer": "ipython3",
   "version": "3.8.8"
  }
 },
 "nbformat": 4,
 "nbformat_minor": 5
}
