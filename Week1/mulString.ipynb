{
 "cells": [
  {
   "cell_type": "code",
   "execution_count": null,
   "id": "0a17b97f",
   "metadata": {},
   "outputs": [],
   "source": [
    "num1 = input(\"Enter Number1: \")\n",
    "num2 = input(\"Enter Number2: \")\n",
    "\n",
    "def constructTrueValue(num , digit , index):\n",
    "    for i in range(index+1 , len(num)):\n",
    "        digit = digit + \"0\"\n",
    "    return digit\n",
    " \n",
    "def multiply(n1 , n2):\n",
    "    carry = 0\n",
    "    finalResult = 0\n",
    "    result = \"\"\n",
    "    for i in range(len(n1)-1 , -1 , -1):\n",
    "        result = \"\"\n",
    "        carry = 0\n",
    "        val1 = int(n1[i])\n",
    "        for y in range(len(n2)-1 , -1 , -1):\n",
    "            val2 = int(n2[y])\n",
    "            mul = str((val1*val2)+carry)\n",
    "            if(len(mul) > 1):\n",
    "                carry = int(mul[0])\n",
    "            else:\n",
    "                carry = 0\n",
    "            result =mul[len(mul)-1] + result\n",
    "        \n",
    "        result = str(carry)+ constructTrueValue(n1 , result , i)    \n",
    "        finalResult = finalResult + int(result)\n",
    "    return(finalResult)\n",
    "\n",
    "print(multiply(num1 , num2))"
   ]
  }
 ],
 "metadata": {
  "kernelspec": {
   "display_name": "Python 3",
   "language": "python",
   "name": "python3"
  },
  "language_info": {
   "codemirror_mode": {
    "name": "ipython",
    "version": 3
   },
   "file_extension": ".py",
   "mimetype": "text/x-python",
   "name": "python",
   "nbconvert_exporter": "python",
   "pygments_lexer": "ipython3",
   "version": "3.8.8"
  }
 },
 "nbformat": 4,
 "nbformat_minor": 5
}
